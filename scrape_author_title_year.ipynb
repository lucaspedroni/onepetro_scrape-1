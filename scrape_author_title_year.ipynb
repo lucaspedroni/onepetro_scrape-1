{
 "cells": [
  {
   "cell_type": "code",
   "execution_count": null,
   "metadata": {},
   "outputs": [],
   "source": [
    "# library used\n",
    "from bs4 import BeautifulSoup\n",
    "import requests\n",
    "from html.parser import HTMLParser"
   ]
  },
  {
   "cell_type": "code",
   "execution_count": null,
   "metadata": {},
   "outputs": [],
   "source": [
    "# build custom function\n",
    "class MLStripper(HTMLParser):\n",
    "    def __init__(self):\n",
    "        self.reset()\n",
    "        self.strict = False\n",
    "        self.convert_charrefs= True\n",
    "        self.fed = []\n",
    "    def handle_data(self, d):\n",
    "        self.fed.append(d)\n",
    "    def get_data(self):\n",
    "        return ''.join(self.fed)\n",
    "\n",
    "def strip_tags(html):\n",
    "    s = MLStripper()\n",
    "    s.feed(html)\n",
    "    return s.get_data()"
   ]
  },
  {
   "cell_type": "code",
   "execution_count": null,
   "metadata": {},
   "outputs": [],
   "source": [
    "# options\n",
    "query = \"integrated production modeling\"\n",
    "peer_reviewed = '' \n",
    "published_between = '' \n",
    "from_year = ''\n",
    "to_year = ''\n",
    "rows = 200\n",
    "general_url = 'https://www.onepetro.org/search?q='+query+'&peer_reviewed='+peer_reviewed+'&published_between='+published_between+'&from_year='+from_year+'&to_year='+to_year+'&rows='+str(rows)"
   ]
  },
  {
   "cell_type": "code",
   "execution_count": null,
   "metadata": {},
   "outputs": [],
   "source": [
    "# initializing\n",
    "max_count = BeautifulSoup(requests.get(general_url).text).find(\"div\",{'class': 'total-results'}).find(\"h2\").getText().split(' ')[-2].replace(',','')\n",
    "i =0\n",
    "title = []\n",
    "authors = []\n",
    "year = []"
   ]
  },
  {
   "cell_type": "code",
   "execution_count": null,
   "metadata": {
    "scrolled": true
   },
   "outputs": [],
   "source": [
    "# begin scrapping\n",
    "for loop in range(0,int(max_count),int(rows)):\n",
    "    soup = BeautifulSoup(requests.get(\"https://www.onepetro.org/search?start=\"+str(loop)+\"&q=integrated+production+modeling&from_year=&peer_reviewed=&published_between=&rows=100&to_year=\").text)\n",
    "    highlighted = soup.find_all(\"div\",{'class': 'highlighted'})\n",
    "    bt = soup.find_all(\"h3\",{'class': 'book-title'})\n",
    "    for v in bt:\n",
    "        title.append(' '.join(v.find('a').getText().split()))\n",
    "    for x in highlighted:\n",
    "        i=i+1\n",
    "        if x.find('div',{'class':'result-item-authors'}):\n",
    "            thisbookauthor = [' '.join(y.get_text().split()) for y in x.find_all('div',{'class':'result-item-author'})]\n",
    "            authors.append(thisbookauthor)\n",
    "        else:\n",
    "            authors.append([''])\n",
    "        if x.find('div',{'class':'result-item-source'}):\n",
    "            year.append(' '.join(x.find('div',{'class':'result-item-source'}).get_text().split()))\n",
    "        else:\n",
    "            year.append([''])\n",
    "        print(title[i-1],authors[i-1],year[i-1])"
   ]
  },
  {
   "cell_type": "code",
   "execution_count": null,
   "metadata": {},
   "outputs": [],
   "source": [
    "# total current stuffs\n",
    "print (len(highlighted),len(bt),len(title),len(authors),len(year))"
   ]
  },
  {
   "cell_type": "markdown",
   "metadata": {},
   "source": [
    "## how to get/use the \"stuffs\""
   ]
  },
  {
   "cell_type": "code",
   "execution_count": null,
   "metadata": {},
   "outputs": [],
   "source": [
    "# 0 = to the iterator number \n",
    "print(\"Title : \",title[900]) \n",
    "print(\"Authors : \",authors[900])\n",
    "print(\"Year : \",year[900])"
   ]
  }
 ],
 "metadata": {
  "kernelspec": {
   "display_name": "Python 3",
   "language": "python",
   "name": "python3"
  },
  "language_info": {
   "codemirror_mode": {
    "name": "ipython",
    "version": 3
   },
   "file_extension": ".py",
   "mimetype": "text/x-python",
   "name": "python",
   "nbconvert_exporter": "python",
   "pygments_lexer": "ipython3",
   "version": "3.7.0"
  }
 },
 "nbformat": 4,
 "nbformat_minor": 2
}
